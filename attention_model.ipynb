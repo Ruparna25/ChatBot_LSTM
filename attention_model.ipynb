{
 "cells": [
  {
   "cell_type": "code",
   "execution_count": 1,
   "id": "9621d89e",
   "metadata": {
    "scrolled": true
   },
   "outputs": [],
   "source": [
    "import tensorflow\n",
    "import nltk\n",
    "import json\n",
    "import codecs\n",
    "import csv\n",
    "import regex as re\n",
    "import numpy as np\n",
    "import tensorflow as tf\n",
    "import tensorflow_addons as tfa\n",
    "import keras\n",
    "from keras.layers import SimpleRNN\n",
    "from keras.preprocessing.sequence import pad_sequences\n",
    "import nltk"
   ]
  },
  {
   "cell_type": "markdown",
   "id": "6b51f8ad",
   "metadata": {},
   "source": [
    "Readine the lines and the conversation texts to extract text for training the chatbot"
   ]
  },
  {
   "cell_type": "code",
   "execution_count": 2,
   "id": "5690a24e",
   "metadata": {},
   "outputs": [],
   "source": [
    "# Open the movie_lines file and econding used for this file is utf-8, read function helps in reading the file and \n",
    "#split function formats the data\n",
    "lines = open('movie_lines.txt',encoding='utf-8', errors='ignore').read().split('\\n')\n",
    "\n",
    "#Reading the conversations file\n",
    "conv_lines = open('movie_conversations.txt',encoding='utf-8',errors='ignore').read().split('\\n')"
   ]
  },
  {
   "cell_type": "code",
   "execution_count": 3,
   "id": "1ef8d057",
   "metadata": {},
   "outputs": [],
   "source": [
    "#Extracting the id and the conversation from the movie_lines text file.\n",
    "# Step 1 - Splitting the file on the indicator '+++$+++'\n",
    "# Step 2 - Extracting the 5th section of each line as that depicts  the conversation and storing the convesation against the ID\n",
    "#          present in the first section of the sentence\n",
    "id2line = {}\n",
    "for line in lines:\n",
    "    _line = line.split(' +++$+++ ')\n",
    "    if len(_line) == 5:\n",
    "        id2line[_line[0]] = _line[4]\n",
    "\n",
    "# Conversation lines data \n",
    "# Step 1: Splitting each line on the identifier\n",
    "# Step 2: Extracting the last segement of the sentence and then replace quotation marks and in between spaces\n",
    "conv=[]\n",
    "for line in conv_lines:\n",
    "    _conv = line.split(' +++$+++ ')[-1][1:-1].replace(\"'\",\"\").replace(\" \",\"\")\n",
    "    conv.append(_conv.split(','))"
   ]
  },
  {
   "cell_type": "code",
   "execution_count": 4,
   "id": "9a521ebf",
   "metadata": {},
   "outputs": [
    {
     "name": "stdout",
     "output_type": "stream",
     "text": [
      "L194 Can we make this quick?  Roxanne Korrine and Andrew Barrett are having an incredibly horrendous public break- up on the quad.  Again.\n",
      "L195 Well, I thought we'd start with pronunciation, if that's okay with you.\n",
      "L196 Not the hacking and gagging and spitting part.  Please.\n",
      "L197 Okay... then how 'bout we try out some French cuisine.  Saturday?  Night?\n"
     ]
    }
   ],
   "source": [
    "#A sample conversation -\n",
    "#u16 +++$+++ u25 +++$+++ m1 +++$+++ ['L2256', 'L2257', 'L2258', 'L2259', 'L2260'] this is the 250th row from the input\n",
    "for i in conv[0]:\n",
    "    print(i, id2line[i])"
   ]
  },
  {
   "cell_type": "code",
   "execution_count": 5,
   "id": "909f798d",
   "metadata": {},
   "outputs": [],
   "source": [
    "# Taking a pair of conversation and breaking it into input and response pair, ny drawing the lines from the id2line dict\n",
    "pairs=[]\n",
    "for cnv in conv:\n",
    "    for i in range(len(cnv)-1):\n",
    "        inp=id2line[cnv[i]].strip()\n",
    "        res=id2line[cnv[i+1]].strip()\n",
    "        if inp and res:\n",
    "            pairs.append([inp,res])"
   ]
  },
  {
   "cell_type": "code",
   "execution_count": 6,
   "id": "a4ab654f",
   "metadata": {},
   "outputs": [
    {
     "data": {
      "text/plain": [
       "[['Can we make this quick?  Roxanne Korrine and Andrew Barrett are having an incredibly horrendous public break- up on the quad.  Again.',\n",
       "  \"Well, I thought we'd start with pronunciation, if that's okay with you.\"],\n",
       " [\"Well, I thought we'd start with pronunciation, if that's okay with you.\",\n",
       "  'Not the hacking and gagging and spitting part.  Please.'],\n",
       " ['Not the hacking and gagging and spitting part.  Please.',\n",
       "  \"Okay... then how 'bout we try out some French cuisine.  Saturday?  Night?\"],\n",
       " [\"You're asking me out.  That's so cute. What's your name again?\",\n",
       "  'Forget it.'],\n",
       " [\"No, no, it's my fault -- we didn't have a proper introduction ---\",\n",
       "  'Cameron.'],\n",
       " ['Cameron.',\n",
       "  \"The thing is, Cameron -- I'm at the mercy of a particularly hideous breed of loser.  My sister.  I can't date until she does.\"],\n",
       " [\"The thing is, Cameron -- I'm at the mercy of a particularly hideous breed of loser.  My sister.  I can't date until she does.\",\n",
       "  'Seems like she could get a date easy enough...'],\n",
       " ['Why?',\n",
       "  'Unsolved mystery.  She used to be really popular when she started high school, then it was just like she got sick of it or something.'],\n",
       " ['Unsolved mystery.  She used to be really popular when she started high school, then it was just like she got sick of it or something.',\n",
       "  \"That's a shame.\"],\n",
       " ['Gosh, if only we could find Kat a boyfriend...',\n",
       "  'Let me see what I can do.']]"
      ]
     },
     "execution_count": 6,
     "metadata": {},
     "output_type": "execute_result"
    }
   ],
   "source": [
    "pairs[0:10]"
   ]
  },
  {
   "cell_type": "code",
   "execution_count": 7,
   "id": "9e9bc913",
   "metadata": {},
   "outputs": [],
   "source": [
    "#Storing inputs and response pair in a text file\n",
    "file_name='conv_formatted.txt'\n",
    "delimiter = '\\t'\n",
    "# Unescape the delimiter\n",
    "delimiter = str(codecs.decode(delimiter, \"unicode_escape\"))\n",
    "with open(file_name,'w',encoding='utf-8') as out_file:\n",
    "    writer=csv.writer(out_file,delimiter=delimiter, lineterminator='\\n')\n",
    "    for pair in pairs:\n",
    "        writer.writerow(pair)"
   ]
  },
  {
   "cell_type": "code",
   "execution_count": 8,
   "id": "013df364",
   "metadata": {},
   "outputs": [
    {
     "data": {
      "text/plain": [
       "221282"
      ]
     },
     "execution_count": 8,
     "metadata": {},
     "output_type": "execute_result"
    }
   ],
   "source": [
    "#Reading the formatted conversation file\n",
    "line_fmt = open(file_name,encoding='utf-8').read().strip().split('\\n')       #Strip removes the leading and trailing characters\n",
    "len(line_fmt)"
   ]
  },
  {
   "cell_type": "code",
   "execution_count": 9,
   "id": "fee79b87",
   "metadata": {},
   "outputs": [
    {
     "name": "stdout",
     "output_type": "stream",
     "text": [
      "load total 146265 pairs with length <= max_length (10)\n",
      "[['well i thought we would start with pronunciation if that is okay with you .', 'not the hacking and gagging and spitting part . please .'], ['not the hacking and gagging and spitting part . please .', 'okay . . . then how about we try out some french cuisine . saturday ? night ?'], ['you are asking me out . that is so cute . that is your name again ?', 'forget it .']]\n"
     ]
    }
   ],
   "source": [
    "#Some basic formatting of the data\n",
    "#Converting the data into lower-case, trim and remove all non-letter characters\n",
    "def NormalizeText(s):\n",
    "    s=s.lower().strip()\n",
    "    s = re.sub(r\"([.!?])\", r\" \\1\", s)\n",
    "    s = re.sub(r\"[^a-zA-Z.!?]+\", r\" \", s)\n",
    "    s = re.sub(r\"\\s+\", r\" \", s).strip()\n",
    "    return s\n",
    "\n",
    "#filterPairs - Stripping sentences into smaller ones by setting a threshold limit on number of words, if either the input\n",
    "#or the response is less than threshold length, then it is added to the list of valid pairs, else skipped\n",
    "#'Can we make this quick?  Roxanne Korrine and Andrew Barrett are having an incredibly horrendous public break- up on the quad.\n",
    "#Again.\\tWell, I thought we'd start with pronunciation, if that's okay with you.'\n",
    "#the above sentence pair is not considered as valid when the max_length is 10 as both the input & response's length > 10\n",
    "def filterPairs(pairs,max_length):\n",
    "    valid_pair=[]\n",
    "    for pair in pairs:\n",
    "        inp, resp = pair[0].split(' '),pair[1].split(' ')\n",
    "        if len(inp) < max_length and len(resp) < max_length:\n",
    "            valid_pair.append(pair)\n",
    "    print(f'load total {len(valid_pair)} pairs with length <= max_length (10)')\n",
    "    return valid_pair\n",
    "\n",
    "\n",
    "def clean_text(text):\n",
    "    '''Clean text by removing unnecessary characters and altering the format of words.'''\n",
    "    text = text.lower()\n",
    "    text = re.sub(r\"i'm\", \"i am\", text)\n",
    "    text = re.sub(r\"he's\", \"he is\", text)\n",
    "    text = re.sub(r\"she's\", \"she is\", text)\n",
    "    text = re.sub(r\"it's\", \"it is\", text)\n",
    "    text = re.sub(r\"that's\", \"that is\", text)\n",
    "    text = re.sub(r\"what's\", \"that is\", text)\n",
    "    text = re.sub(r\"where's\", \"where is\", text)\n",
    "    text = re.sub(r\"how's\", \"how is\", text)\n",
    "    text = re.sub(r\"\\'ll\", \" will\", text)\n",
    "    text = re.sub(r\"\\'ve\", \" have\", text)\n",
    "    text = re.sub(r\"\\'re\", \" are\", text)\n",
    "    text = re.sub(r\"\\'d\", \" would\", text)\n",
    "    text = re.sub(r\"\\'re\", \" are\", text)\n",
    "    text = re.sub(r\"won't\", \"will not\", text)\n",
    "    text = re.sub(r\"can't\", \"cannot\", text)\n",
    "    text = re.sub(r\"n't\", \" not\", text)\n",
    "    text = re.sub(r\"n'\", \"ng\", text)\n",
    "    text = re.sub(r\"'bout\", \"about\", text)\n",
    "    text = re.sub(r\"'til\", \"until\", text)\n",
    "    text = re.sub(r\"[-()\\\"#/@;:<>{}`+=~|]\", \"\", text)\n",
    "#     text = re.sub(r\"[-()\\\"#/@;:<>{}`+=~|.!?,]\", \"\", text)\n",
    "    text = \" \".join(text.split())\n",
    "    return text\n",
    "\n",
    "pairs=[[NormalizeText(clean_text(s)) for s in l.split('\\t')] for l in line_fmt]\n",
    "valid_pairs=filterPairs(pairs,20)\n",
    "print(valid_pairs[0:3])"
   ]
  },
  {
   "cell_type": "code",
   "execution_count": 10,
   "id": "899e3f59",
   "metadata": {},
   "outputs": [
    {
     "name": "stdout",
     "output_type": "stream",
     "text": [
      "['this could be the start of a whole new career here', 'like a deep plum lipstick and some therapeutics']\n",
      "['like a deep plum lipstick and some therapeutics', 'this could take us to a town that is nowhere near here']\n",
      "\n",
      "['like a deep plum lipstick and some therapeutics', 'this could take us to a town that is nowhere near here']\n",
      "['and none of them worked ?', 'no .']\n",
      "\n",
      "['and none of them worked ?', 'no .']\n",
      "['and we also know how you feel we are not strangers to confusion .', 'we are not confused .']\n",
      "\n"
     ]
    }
   ],
   "source": [
    "r = np.random.randint(1,len(valid_pairs))\n",
    "\n",
    "for i in range(r, r+3):\n",
    "    print(valid_pairs[i])\n",
    "    print(valid_pairs[i+1])\n",
    "    print()"
   ]
  },
  {
   "cell_type": "code",
   "execution_count": 11,
   "id": "b97df2f4",
   "metadata": {},
   "outputs": [],
   "source": [
    "#Sampling only 30000 pairs of input and response to train the model\n",
    "num_samples = 30000\n",
    "sampled_input = []\n",
    "sampled_resp = []\n",
    "for pair in valid_pairs:\n",
    "    \n",
    "    sampled_input.append(pair[0])\n",
    "    sampled_resp.append(pair[1])\n",
    "sampled_input=sampled_input[:30000]\n",
    "sampled_resp=sampled_resp[:30000]"
   ]
  },
  {
   "cell_type": "code",
   "execution_count": 12,
   "id": "976c6499",
   "metadata": {},
   "outputs": [],
   "source": [
    "sampled_input_tok = [nltk.word_tokenize(word) for word in sampled_input]\n",
    "sampled_resp_tok = [nltk.word_tokenize(word) for word in sampled_resp]"
   ]
  },
  {
   "cell_type": "code",
   "execution_count": 13,
   "id": "57efa416",
   "metadata": {},
   "outputs": [
    {
     "name": "stdout",
     "output_type": "stream",
     "text": [
      "training size 24000\n",
      "validation size 6000\n"
     ]
    }
   ],
   "source": [
    "data_size=len(sampled_input)\n",
    "\n",
    "training_input = sampled_input_tok[:round(data_size*(80/100))]\n",
    "\n",
    "#Reversing the input sequence for better performance - as the first word received by the decoder would be the last encoded word\n",
    "#example 'you are asking me out . that is so cute . that is your name again ?'\n",
    "#. esaelp . trap gnittips dna gniggag dna gnikcah eht ton\n",
    "training_input = [tr_input[::-1] for tr_input in training_input]\n",
    "training_output = sampled_resp_tok[:round(data_size*(80/100))]\n",
    "\n",
    "validation_input = sampled_input_tok[round(data_size*(80/100)):]\n",
    "validation_input = [val_input[::-1] for val_input in validation_input]\n",
    "validation_output = sampled_resp_tok[round(data_size*(80/100)):]\n",
    "\n",
    "print('training size', len(training_input))\n",
    "print('validation size', len(validation_input))"
   ]
  },
  {
   "cell_type": "code",
   "execution_count": 14,
   "id": "69b5a81b",
   "metadata": {},
   "outputs": [],
   "source": [
    "#Creating a dictionary of the words present in the sampled input and response\n",
    "vocab={}\n",
    "for inp in sampled_input_tok:\n",
    "    for word in inp:\n",
    "        if word not in vocab:\n",
    "            vocab[word]=1\n",
    "        else:\n",
    "            vocab[word] +=1\n",
    "        \n",
    "for resp in sampled_resp_tok:\n",
    "    for word in inp:\n",
    "        if word not in vocab:\n",
    "            vocab[word]=1\n",
    "        else:\n",
    "            vocab[word] +=1"
   ]
  },
  {
   "cell_type": "code",
   "execution_count": 15,
   "id": "1403d296",
   "metadata": {},
   "outputs": [
    {
     "name": "stdout",
     "output_type": "stream",
     "text": [
      "Size of actual vocabulary: 11851\n",
      "Size of vocab to be used: 1903\n"
     ]
    }
   ],
   "source": [
    "#Removing words which appeared 7 or less number of times in the vocabulary\n",
    "threshold = 7\n",
    "count=0\n",
    "for k,v in vocab.items():\n",
    "    if v>= threshold:\n",
    "        count+=1\n",
    "        \n",
    "print('Size of actual vocabulary:',len(vocab))\n",
    "print('Size of vocab to be used:',count)"
   ]
  },
  {
   "cell_type": "code",
   "execution_count": 16,
   "id": "eaadbed9",
   "metadata": {},
   "outputs": [
    {
     "name": "stdout",
     "output_type": "stream",
     "text": [
      "No of vocab used: 1905\n"
     ]
    }
   ],
   "source": [
    "sos_token = 1\n",
    "pad_token = 0\n",
    "\n",
    "# the word num should be set as 2 as 1 is allocated for sos_token and 0 is allocated for pad token\n",
    "word_num = 2\n",
    "encoding = {}\n",
    "decoding = {1:'SOS'}\n",
    "\n",
    "for word, count in vocab.items():\n",
    "    if count >= threshold:\n",
    "        encoding[word]=word_num\n",
    "        decoding[word_num]=word\n",
    "        word_num+=1\n",
    "        \n",
    "print('No of vocab used:',word_num)"
   ]
  },
  {
   "cell_type": "code",
   "execution_count": 17,
   "id": "8475764c",
   "metadata": {},
   "outputs": [],
   "source": [
    "#include unknown token for words not in dictionary\n",
    "decoding[len(encoding)+2] = '<UNK>'\n",
    "encoding['<UNK>'] = len(encoding)+2"
   ]
  },
  {
   "cell_type": "code",
   "execution_count": 18,
   "id": "9c1b696e",
   "metadata": {},
   "outputs": [
    {
     "data": {
      "text/plain": [
       "1906"
      ]
     },
     "execution_count": 18,
     "metadata": {},
     "output_type": "execute_result"
    }
   ],
   "source": [
    "#Increased dict_size by 1 for the unknown word\n",
    "dict_size = word_num+1\n",
    "dict_size"
   ]
  },
  {
   "cell_type": "code",
   "execution_count": 19,
   "id": "5926540c",
   "metadata": {},
   "outputs": [],
   "source": [
    "def transform(encoding, data, vector_size):\n",
    "    \n",
    "    transformed_data = np.zeros(shape=(len(data),vector_size))\n",
    "    for i in range(len(data)):\n",
    "        #Trim all the sentences which contains more than the max allowed no of words in a sentence\n",
    "        for j in range(min(len(data[i]),vector_size)):\n",
    "            try:\n",
    "                transformed_data[i][j]=encoding[data[i][j]]\n",
    "            except:\n",
    "                transformed_data[i][j]=encoding['<UNK>']\n",
    "    return transformed_data"
   ]
  },
  {
   "cell_type": "code",
   "execution_count": 20,
   "id": "5aba9c2f",
   "metadata": {},
   "outputs": [
    {
     "name": "stdout",
     "output_type": "stream",
     "text": [
      "Encoded Training Input: (24000, 20)\n",
      "Encoded Training Output: (24000, 20)\n"
     ]
    }
   ],
   "source": [
    "INPUT_LENGTH = 20\n",
    "OUTPUT_LENGTH = 20\n",
    "encoding_input_data = transform(encoding, training_input, vector_size=INPUT_LENGTH)\n",
    "encoding_resp_data = transform(encoding, training_output, vector_size=OUTPUT_LENGTH)\n",
    "\n",
    "print('Encoded Training Input:',encoding_input_data.shape)\n",
    "print('Encoded Training Output:',encoding_resp_data.shape)"
   ]
  },
  {
   "cell_type": "code",
   "execution_count": 21,
   "id": "2e78a833",
   "metadata": {},
   "outputs": [
    {
     "data": {
      "text/plain": [
       "array([[  14.,   13.,    8.,   12.,   11.,   10.,    9., 1905.,    8.,\n",
       "           7.,    6.,    5.,    4.,    3.,    2.,    0.,    0.,    0.,\n",
       "           0.,    0.],\n",
       "       [  14.,   19.,   14.,   18., 1905.,   17., 1905.,   17., 1905.,\n",
       "          16.,   15.,    0.,    0.,    0.,    0.,    0.,    0.,    0.,\n",
       "           0.,    0.],\n",
       "       [  29.,   28.,   27.,   26.,   11.,   10.,   14.,   25.,   24.,\n",
       "          11.,   10.,   14.,   23.,   22.,   21.,   20.,   13.,    0.,\n",
       "           0.,    0.]])"
      ]
     },
     "execution_count": 21,
     "metadata": {},
     "output_type": "execute_result"
    }
   ],
   "source": [
    "encoding_input_data[:3]"
   ]
  },
  {
   "cell_type": "code",
   "execution_count": 22,
   "id": "989157f6",
   "metadata": {},
   "outputs": [
    {
     "name": "stdout",
     "output_type": "stream",
     "text": [
      "Encoded Training Input: (6000, 20)\n",
      "Encoded Training Output: (6000, 20)\n"
     ]
    }
   ],
   "source": [
    "encoding_valid_input_data = transform(encoding, validation_input, vector_size=INPUT_LENGTH)\n",
    "encoding_valid_resp_data = transform(encoding,validation_output,vector_size=OUTPUT_LENGTH)\n",
    "\n",
    "print('Encoded Training Input:',encoding_valid_input_data.shape)\n",
    "print('Encoded Training Output:',encoding_valid_resp_data.shape)"
   ]
  },
  {
   "cell_type": "markdown",
   "id": "d5922d45",
   "metadata": {},
   "source": [
    "Attention Model -\n",
    "1. Embedding Layer for drawing insight from the text data\n",
    "2. LSTM layer for Encoder\n",
    "3. LSTM layer for Decoder\n",
    "4. Attention Model \n",
    "5. Dense Model"
   ]
  },
  {
   "cell_type": "code",
   "execution_count": 23,
   "id": "14ce956b",
   "metadata": {},
   "outputs": [
    {
     "name": "stdout",
     "output_type": "stream",
     "text": [
      "[[[0 1]\n",
      "  [2 3]\n",
      "  [4 5]\n",
      "  [6 7]\n",
      "  [8 9]]]\n",
      "[[[10 11 12 13 14]\n",
      "  [15 16 17 18 19]]]\n"
     ]
    },
    {
     "data": {
      "text/plain": [
       "<tf.Tensor: shape=(1, 5, 5), dtype=int32, numpy=\n",
       "array([[[ 15,  16,  17,  18,  19],\n",
       "        [ 65,  70,  75,  80,  85],\n",
       "        [115, 124, 133, 142, 151],\n",
       "        [165, 178, 191, 204, 217],\n",
       "        [215, 232, 249, 266, 283]]])>"
      ]
     },
     "execution_count": 23,
     "metadata": {},
     "output_type": "execute_result"
    }
   ],
   "source": [
    "x = np.arange(10).reshape(1, 5, 2)\n",
    "print(x)\n",
    "y = np.arange(10, 20).reshape(1, 2, 5)\n",
    "print(y)\n",
    "keras.layers.dot([x,y],axes=(2,1))"
   ]
  },
  {
   "cell_type": "code",
   "execution_count": 24,
   "id": "ee441fc0",
   "metadata": {},
   "outputs": [],
   "source": [
    "encoder_inputs = keras.layers.Input(shape=(INPUT_LENGTH,))\n",
    "decoder_inputs = keras.layers.Input(shape=(OUTPUT_LENGTH,))"
   ]
  },
  {
   "cell_type": "code",
   "execution_count": 25,
   "id": "46b430da",
   "metadata": {},
   "outputs": [
    {
     "name": "stdout",
     "output_type": "stream",
     "text": [
      "WARNING:tensorflow:Layer lstm will not use cuDNN kernels since it doesn't meet the criteria. It will use a generic GPU kernel as fallback when running on GPU.\n",
      "encoder KerasTensor(type_spec=TensorSpec(shape=(None, 20, 512), dtype=tf.float32, name=None), name='lstm/transpose_2:0', description=\"created by layer 'lstm'\")\n",
      "encoder_last KerasTensor(type_spec=TensorSpec(shape=(None, 512), dtype=tf.float32, name=None), name='tf.__operators__.getitem/strided_slice:0', description=\"created by layer 'tf.__operators__.getitem'\")\n",
      "WARNING:tensorflow:Layer lstm_1 will not use cuDNN kernels since it doesn't meet the criteria. It will use a generic GPU kernel as fallback when running on GPU.\n",
      "KerasTensor(type_spec=TensorSpec(shape=(None, 20, 512), dtype=tf.float32, name=None), name='lstm_1/transpose_2:0', description=\"created by layer 'lstm_1'\")\n"
     ]
    }
   ],
   "source": [
    "with tf.device('/GPU:0'):\n",
    "    encoder_embeddings = keras.layers.Embedding(dict_size,128,input_length=INPUT_LENGTH,mask_zero=True,)(encoder_inputs)\n",
    "    \n",
    "    encoder = keras.layers.LSTM(512,return_sequences=True,unroll=True)(encoder_embeddings)\n",
    "    encoder_last = encoder[:,-1,:]\n",
    "    \n",
    "    print('encoder',encoder)\n",
    "    print('encoder_last',encoder_last)\n",
    "    \n",
    "    decoder_embeddings = keras.layers.Embedding(dict_size,128,input_length=OUTPUT_LENGTH,mask_zero=True,)(decoder_inputs)\n",
    "    decoder = keras.layers.LSTM(512,return_sequences=True,unroll=True)(decoder_embeddings,initial_state=[encoder_last,encoder_last])\n",
    "    \n",
    "    print(decoder)"
   ]
  },
  {
   "cell_type": "code",
   "execution_count": 26,
   "id": "eb4c3b16",
   "metadata": {},
   "outputs": [
    {
     "name": "stdout",
     "output_type": "stream",
     "text": [
      "attention: KerasTensor(type_spec=TensorSpec(shape=(None, 20, 20), dtype=tf.float32, name=None), name='attention/Softmax:0', description=\"created by layer 'attention'\")\n",
      "context: KerasTensor(type_spec=TensorSpec(shape=(None, 20, 512), dtype=tf.float32, name=None), name='dot_2/MatMul:0', description=\"created by layer 'dot_2'\")\n",
      "decoder_combined_context: KerasTensor(type_spec=TensorSpec(shape=(None, 20, 1024), dtype=tf.float32, name=None), name='concatenate/concat:0', description=\"created by layer 'concatenate'\")\n",
      "output: KerasTensor(type_spec=TensorSpec(shape=(None, 20, 1906), dtype=tf.float32, name=None), name='time_distributed_1/Reshape_1:0', description=\"created by layer 'time_distributed_1'\")\n"
     ]
    }
   ],
   "source": [
    "with tf.device('/GPU:0'):\n",
    "    attention=keras.layers.dot([encoder,decoder],axes=[2,2])\n",
    "    attention=keras.layers.Activation('softmax',name='attention')(attention)\n",
    "    print('attention:',attention)\n",
    "    \n",
    "    context=keras.layers.dot([attention,encoder],axes=[2,1])\n",
    "    print('context:',context)\n",
    "    \n",
    "    decoder_combined_context=keras.layers.concatenate([context,decoder])\n",
    "    print('decoder_combined_context:',decoder_combined_context)\n",
    "    \n",
    "    output=keras.layers.TimeDistributed(keras.layers.Dense(512,activation='tanh'))(decoder_combined_context)\n",
    "    output=keras.layers.TimeDistributed(keras.layers.Dense(dict_size,activation='softmax'))(output)\n",
    "    print('output:',output)"
   ]
  },
  {
   "cell_type": "code",
   "execution_count": 27,
   "id": "4779b244",
   "metadata": {},
   "outputs": [
    {
     "name": "stdout",
     "output_type": "stream",
     "text": [
      "Model: \"model\"\n",
      "__________________________________________________________________________________________________\n",
      " Layer (type)                   Output Shape         Param #     Connected to                     \n",
      "==================================================================================================\n",
      " input_1 (InputLayer)           [(None, 20)]         0           []                               \n",
      "                                                                                                  \n",
      " embedding (Embedding)          (None, 20, 128)      243968      ['input_1[0][0]']                \n",
      "                                                                                                  \n",
      " lstm (LSTM)                    (None, 20, 512)      1312768     ['embedding[0][0]']              \n",
      "                                                                                                  \n",
      " input_2 (InputLayer)           [(None, 20)]         0           []                               \n",
      "                                                                                                  \n",
      " embedding_1 (Embedding)        (None, 20, 128)      243968      ['input_2[0][0]']                \n",
      "                                                                                                  \n",
      " tf.__operators__.getitem (Slic  (None, 512)         0           ['lstm[0][0]']                   \n",
      " ingOpLambda)                                                                                     \n",
      "                                                                                                  \n",
      " lstm_1 (LSTM)                  (None, 20, 512)      1312768     ['embedding_1[0][0]',            \n",
      "                                                                  'tf.__operators__.getitem[0][0]'\n",
      "                                                                 , 'tf.__operators__.getitem[0][0]\n",
      "                                                                 ']                               \n",
      "                                                                                                  \n",
      " dot_1 (Dot)                    (None, 20, 20)       0           ['lstm[0][0]',                   \n",
      "                                                                  'lstm_1[0][0]']                 \n",
      "                                                                                                  \n",
      " attention (Activation)         (None, 20, 20)       0           ['dot_1[0][0]']                  \n",
      "                                                                                                  \n",
      " dot_2 (Dot)                    (None, 20, 512)      0           ['attention[0][0]',              \n",
      "                                                                  'lstm[0][0]']                   \n",
      "                                                                                                  \n",
      " concatenate (Concatenate)      (None, 20, 1024)     0           ['dot_2[0][0]',                  \n",
      "                                                                  'lstm_1[0][0]']                 \n",
      "                                                                                                  \n",
      " time_distributed (TimeDistribu  (None, 20, 512)     524800      ['concatenate[0][0]']            \n",
      " ted)                                                                                             \n",
      "                                                                                                  \n",
      " time_distributed_1 (TimeDistri  (None, 20, 1906)    977778      ['time_distributed[0][0]']       \n",
      " buted)                                                                                           \n",
      "                                                                                                  \n",
      "==================================================================================================\n",
      "Total params: 4,616,050\n",
      "Trainable params: 4,616,050\n",
      "Non-trainable params: 0\n",
      "__________________________________________________________________________________________________\n"
     ]
    }
   ],
   "source": [
    "with tf.device('/GPU:0'):\n",
    "    \n",
    "    model = keras.Model(inputs=[encoder_inputs,decoder_inputs],outputs=[output])\n",
    "    model.compile(optimizer='adam',loss='binary_crossentropy')\n",
    "    model.summary()"
   ]
  },
  {
   "cell_type": "code",
   "execution_count": 28,
   "id": "a5befe45",
   "metadata": {},
   "outputs": [],
   "source": [
    "training_encoder_input = encoding_input_data\n",
    "training_decoder_input = np.zeros_like(encoding_resp_data)\n",
    "#Copy all characters except the last the one and move it from 1st pos\n",
    "training_decoder_input[:, 1:] = encoding_resp_data[:,:-1] \n",
    "training_decoder_input[:,0] = sos_token\n",
    "training_decoder_output = np.eye(dict_size)[encoding_resp_data.astype('int')]"
   ]
  },
  {
   "cell_type": "code",
   "execution_count": 29,
   "id": "ad18d1ea",
   "metadata": {},
   "outputs": [],
   "source": [
    "validation_encoder_input = encoding_valid_input_data\n",
    "validation_decoder_input = np.zeros_like(encoding_valid_resp_data)\n",
    "#Copy all characters except the last the one and move it from 1st pos\n",
    "validation_decoder_input[:, 1:] = encoding_valid_resp_data[:,:-1] \n",
    "validation_decoder_input[:,0] = sos_token\n",
    "validation_decoder_output = np.eye(dict_size)[encoding_valid_resp_data.astype('int')]"
   ]
  },
  {
   "cell_type": "code",
   "execution_count": 30,
   "id": "01ce89cf",
   "metadata": {},
   "outputs": [
    {
     "name": "stdout",
     "output_type": "stream",
     "text": [
      "Epoch 1/40\n",
      "373/375 [============================>.] - ETA: 0s - loss: 0.0015"
     ]
    },
    {
     "ename": "InternalError",
     "evalue": "Failed copying input tensor from /job:localhost/replica:0/task:0/device:CPU:0 to /job:localhost/replica:0/task:0/device:GPU:0 in order to run _EagerConst: Dst tensor is not initialized.",
     "output_type": "error",
     "traceback": [
      "\u001b[1;31m---------------------------------------------------------------------------\u001b[0m",
      "\u001b[1;31mInternalError\u001b[0m                             Traceback (most recent call last)",
      "\u001b[1;32m~\\AppData\\Local\\Temp/ipykernel_10920/3661873176.py\u001b[0m in \u001b[0;36m<module>\u001b[1;34m\u001b[0m\n\u001b[0;32m      1\u001b[0m \u001b[1;31m#Training the model\u001b[0m\u001b[1;33m\u001b[0m\u001b[1;33m\u001b[0m\u001b[0m\n\u001b[0;32m      2\u001b[0m \u001b[1;32mwith\u001b[0m \u001b[0mtf\u001b[0m\u001b[1;33m.\u001b[0m\u001b[0mdevice\u001b[0m\u001b[1;33m(\u001b[0m\u001b[1;34m'/GPU:0'\u001b[0m\u001b[1;33m)\u001b[0m\u001b[1;33m:\u001b[0m\u001b[1;33m\u001b[0m\u001b[1;33m\u001b[0m\u001b[0m\n\u001b[1;32m----> 3\u001b[1;33m     model.fit(x=[training_encoder_input,training_decoder_input],y=[training_decoder_output],\n\u001b[0m\u001b[0;32m      4\u001b[0m               \u001b[0mvalidation_data\u001b[0m\u001b[1;33m=\u001b[0m\u001b[1;33m(\u001b[0m\u001b[1;33m[\u001b[0m\u001b[0mvalidation_encoder_input\u001b[0m\u001b[1;33m,\u001b[0m\u001b[0mvalidation_decoder_input\u001b[0m\u001b[1;33m]\u001b[0m\u001b[1;33m,\u001b[0m\u001b[1;33m[\u001b[0m\u001b[0mvalidation_decoder_output\u001b[0m\u001b[1;33m]\u001b[0m\u001b[1;33m)\u001b[0m\u001b[1;33m,\u001b[0m\u001b[1;33m\u001b[0m\u001b[1;33m\u001b[0m\u001b[0m\n\u001b[0;32m      5\u001b[0m               \u001b[0mbatch_size\u001b[0m\u001b[1;33m=\u001b[0m\u001b[1;36m64\u001b[0m\u001b[1;33m,\u001b[0m\u001b[1;33m\u001b[0m\u001b[1;33m\u001b[0m\u001b[0m\n",
      "\u001b[1;32m~\\anaconda3\\lib\\site-packages\\keras\\utils\\traceback_utils.py\u001b[0m in \u001b[0;36merror_handler\u001b[1;34m(*args, **kwargs)\u001b[0m\n\u001b[0;32m     65\u001b[0m     \u001b[1;32mexcept\u001b[0m \u001b[0mException\u001b[0m \u001b[1;32mas\u001b[0m \u001b[0me\u001b[0m\u001b[1;33m:\u001b[0m  \u001b[1;31m# pylint: disable=broad-except\u001b[0m\u001b[1;33m\u001b[0m\u001b[1;33m\u001b[0m\u001b[0m\n\u001b[0;32m     66\u001b[0m       \u001b[0mfiltered_tb\u001b[0m \u001b[1;33m=\u001b[0m \u001b[0m_process_traceback_frames\u001b[0m\u001b[1;33m(\u001b[0m\u001b[0me\u001b[0m\u001b[1;33m.\u001b[0m\u001b[0m__traceback__\u001b[0m\u001b[1;33m)\u001b[0m\u001b[1;33m\u001b[0m\u001b[1;33m\u001b[0m\u001b[0m\n\u001b[1;32m---> 67\u001b[1;33m       \u001b[1;32mraise\u001b[0m \u001b[0me\u001b[0m\u001b[1;33m.\u001b[0m\u001b[0mwith_traceback\u001b[0m\u001b[1;33m(\u001b[0m\u001b[0mfiltered_tb\u001b[0m\u001b[1;33m)\u001b[0m \u001b[1;32mfrom\u001b[0m \u001b[1;32mNone\u001b[0m\u001b[1;33m\u001b[0m\u001b[1;33m\u001b[0m\u001b[0m\n\u001b[0m\u001b[0;32m     68\u001b[0m     \u001b[1;32mfinally\u001b[0m\u001b[1;33m:\u001b[0m\u001b[1;33m\u001b[0m\u001b[1;33m\u001b[0m\u001b[0m\n\u001b[0;32m     69\u001b[0m       \u001b[1;32mdel\u001b[0m \u001b[0mfiltered_tb\u001b[0m\u001b[1;33m\u001b[0m\u001b[1;33m\u001b[0m\u001b[0m\n",
      "\u001b[1;32m~\\AppData\\Roaming\\Python\\Python39\\site-packages\\tensorflow\\python\\framework\\constant_op.py\u001b[0m in \u001b[0;36mconvert_to_eager_tensor\u001b[1;34m(value, ctx, dtype)\u001b[0m\n\u001b[0;32m    100\u001b[0m       \u001b[0mdtype\u001b[0m \u001b[1;33m=\u001b[0m \u001b[0mdtypes\u001b[0m\u001b[1;33m.\u001b[0m\u001b[0mas_dtype\u001b[0m\u001b[1;33m(\u001b[0m\u001b[0mdtype\u001b[0m\u001b[1;33m)\u001b[0m\u001b[1;33m.\u001b[0m\u001b[0mas_datatype_enum\u001b[0m\u001b[1;33m\u001b[0m\u001b[1;33m\u001b[0m\u001b[0m\n\u001b[0;32m    101\u001b[0m   \u001b[0mctx\u001b[0m\u001b[1;33m.\u001b[0m\u001b[0mensure_initialized\u001b[0m\u001b[1;33m(\u001b[0m\u001b[1;33m)\u001b[0m\u001b[1;33m\u001b[0m\u001b[1;33m\u001b[0m\u001b[0m\n\u001b[1;32m--> 102\u001b[1;33m   \u001b[1;32mreturn\u001b[0m \u001b[0mops\u001b[0m\u001b[1;33m.\u001b[0m\u001b[0mEagerTensor\u001b[0m\u001b[1;33m(\u001b[0m\u001b[0mvalue\u001b[0m\u001b[1;33m,\u001b[0m \u001b[0mctx\u001b[0m\u001b[1;33m.\u001b[0m\u001b[0mdevice_name\u001b[0m\u001b[1;33m,\u001b[0m \u001b[0mdtype\u001b[0m\u001b[1;33m)\u001b[0m\u001b[1;33m\u001b[0m\u001b[1;33m\u001b[0m\u001b[0m\n\u001b[0m\u001b[0;32m    103\u001b[0m \u001b[1;33m\u001b[0m\u001b[0m\n\u001b[0;32m    104\u001b[0m \u001b[1;33m\u001b[0m\u001b[0m\n",
      "\u001b[1;31mInternalError\u001b[0m: Failed copying input tensor from /job:localhost/replica:0/task:0/device:CPU:0 to /job:localhost/replica:0/task:0/device:GPU:0 in order to run _EagerConst: Dst tensor is not initialized."
     ]
    }
   ],
   "source": [
    "#Training the model\n",
    "with tf.device('/GPU:0'):\n",
    "    model.fit(x=[training_encoder_input,training_decoder_input],y=[training_decoder_output],\n",
    "              validation_data=([validation_encoder_input,validation_decoder_input],[validation_decoder_output]),\n",
    "              batch_size=64,\n",
    "              epochs=40)"
   ]
  },
  {
   "cell_type": "markdown",
   "id": "ce5b8c5b",
   "metadata": {},
   "source": [
    "Encoder Model for producing input for decoder"
   ]
  },
  {
   "cell_type": "markdown",
   "id": "e3c22bfa",
   "metadata": {},
   "source": [
    "Preprocess any Random Text "
   ]
  },
  {
   "cell_type": "code",
   "execution_count": null,
   "id": "0d5b2f12",
   "metadata": {},
   "outputs": [],
   "source": []
  },
  {
   "cell_type": "code",
   "execution_count": null,
   "id": "77106b6a",
   "metadata": {},
   "outputs": [],
   "source": []
  }
 ],
 "metadata": {
  "kernelspec": {
   "display_name": "Python 3 (ipykernel)",
   "language": "python",
   "name": "python3"
  },
  "language_info": {
   "codemirror_mode": {
    "name": "ipython",
    "version": 3
   },
   "file_extension": ".py",
   "mimetype": "text/x-python",
   "name": "python",
   "nbconvert_exporter": "python",
   "pygments_lexer": "ipython3",
   "version": "3.9.7"
  }
 },
 "nbformat": 4,
 "nbformat_minor": 5
}
